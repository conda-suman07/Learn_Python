{
 "cells": [
  {
   "cell_type": "code",
   "execution_count": 1,
   "id": "f98126e3",
   "metadata": {},
   "outputs": [],
   "source": [
    "import numpy as np\n",
    "import pandas as pd\n",
    "\n",
    "import os, sys\n",
    "import matplotlib.pylab as plt\n",
    "import matplotlib\n",
    "\n",
    "colors = [\"#f50c0c\",\"#ff890a\", \"#fcba03\", \"#52e010\", \"#1fcfae\", \"#1028de\", \"#cb07ed\", \"#d60439\"]"
   ]
  },
  {
   "cell_type": "code",
   "execution_count": 2,
   "id": "82c420e4",
   "metadata": {},
   "outputs": [],
   "source": [
    "fps = 17\n",
    "height = 3400\n",
    "width = 3400\n",
    "total_duration_frames = 31 * 60 * fps"
   ]
  },
  {
   "cell_type": "code",
   "execution_count": 3,
   "id": "cfd559ee",
   "metadata": {
    "scrolled": true
   },
   "outputs": [],
   "source": [
    "group_data = pd.read_csv(\"E:/Masters Study material/Masters in fish biology aquaculture and fisheries/Master Thesis/Sheets/ComplexLearning_MastersThesis_GroupPerformance.csv\")\n",
    "schedule = pd.read_csv(\"E:/Masters Study material/Masters in fish biology aquaculture and fisheries/Master Thesis/Sheets/ComplexLearning_MastersThesis_Experimental_overview.csv\")\n",
    "\n",
    "\n",
    "\n"
   ]
  },
  {
   "cell_type": "code",
   "execution_count": 4,
   "id": "e5afe42a",
   "metadata": {
    "scrolled": true
   },
   "outputs": [
    {
     "data": {
      "text/html": [
       "<div>\n",
       "<style scoped>\n",
       "    .dataframe tbody tr th:only-of-type {\n",
       "        vertical-align: middle;\n",
       "    }\n",
       "\n",
       "    .dataframe tbody tr th {\n",
       "        vertical-align: top;\n",
       "    }\n",
       "\n",
       "    .dataframe thead th {\n",
       "        text-align: right;\n",
       "    }\n",
       "</style>\n",
       "<table border=\"1\" class=\"dataframe\">\n",
       "  <thead>\n",
       "    <tr style=\"text-align: right;\">\n",
       "      <th></th>\n",
       "      <th>filename</th>\n",
       "      <th>recID</th>\n",
       "      <th>date</th>\n",
       "      <th>time</th>\n",
       "      <th>treatment</th>\n",
       "      <th>group_id</th>\n",
       "      <th>door_color</th>\n",
       "      <th>frame#</th>\n",
       "      <th>IN/OUT(1/-1)</th>\n",
       "      <th>info</th>\n",
       "      <th>note</th>\n",
       "    </tr>\n",
       "  </thead>\n",
       "  <tbody>\n",
       "    <tr>\n",
       "      <th>0</th>\n",
       "      <td>rec_0000_group_task_groupid_003_treatment_dddd...</td>\n",
       "      <td>0</td>\n",
       "      <td>20220803</td>\n",
       "      <td>142456</td>\n",
       "      <td>dddd</td>\n",
       "      <td>3</td>\n",
       "      <td>NaN</td>\n",
       "      <td>0.0</td>\n",
       "      <td>0.0</td>\n",
       "      <td>NaN</td>\n",
       "      <td>with_door</td>\n",
       "    </tr>\n",
       "    <tr>\n",
       "      <th>1</th>\n",
       "      <td>rec_0001_group_task_groupid_001_treatment_cccc...</td>\n",
       "      <td>1</td>\n",
       "      <td>20220803</td>\n",
       "      <td>152609</td>\n",
       "      <td>cccc</td>\n",
       "      <td>1</td>\n",
       "      <td>NaN</td>\n",
       "      <td>0.0</td>\n",
       "      <td>0.0</td>\n",
       "      <td>NaN</td>\n",
       "      <td>with_door</td>\n",
       "    </tr>\n",
       "    <tr>\n",
       "      <th>2</th>\n",
       "      <td>rec_0002_group_task_groupid_002_treatment_ccdd...</td>\n",
       "      <td>2</td>\n",
       "      <td>20220803</td>\n",
       "      <td>162700</td>\n",
       "      <td>ccdd</td>\n",
       "      <td>2</td>\n",
       "      <td>NaN</td>\n",
       "      <td>0.0</td>\n",
       "      <td>0.0</td>\n",
       "      <td>NaN</td>\n",
       "      <td>with_door</td>\n",
       "    </tr>\n",
       "    <tr>\n",
       "      <th>3</th>\n",
       "      <td>rec_0003_group_task_groupid_005_treatment_cccc...</td>\n",
       "      <td>3</td>\n",
       "      <td>20220803</td>\n",
       "      <td>170921</td>\n",
       "      <td>cccc</td>\n",
       "      <td>5</td>\n",
       "      <td>NaN</td>\n",
       "      <td>0.0</td>\n",
       "      <td>0.0</td>\n",
       "      <td>NaN</td>\n",
       "      <td>with_door</td>\n",
       "    </tr>\n",
       "    <tr>\n",
       "      <th>4</th>\n",
       "      <td>rec_0004_group_task_groupid_008_treatment_ccdd...</td>\n",
       "      <td>4</td>\n",
       "      <td>20220805</td>\n",
       "      <td>111130</td>\n",
       "      <td>ccdd</td>\n",
       "      <td>8</td>\n",
       "      <td>NaN</td>\n",
       "      <td>0.0</td>\n",
       "      <td>0.0</td>\n",
       "      <td>NaN</td>\n",
       "      <td>with_door</td>\n",
       "    </tr>\n",
       "  </tbody>\n",
       "</table>\n",
       "</div>"
      ],
      "text/plain": [
       "                                            filename  recID      date    time  \\\n",
       "0  rec_0000_group_task_groupid_003_treatment_dddd...      0  20220803  142456   \n",
       "1  rec_0001_group_task_groupid_001_treatment_cccc...      1  20220803  152609   \n",
       "2  rec_0002_group_task_groupid_002_treatment_ccdd...      2  20220803  162700   \n",
       "3  rec_0003_group_task_groupid_005_treatment_cccc...      3  20220803  170921   \n",
       "4  rec_0004_group_task_groupid_008_treatment_ccdd...      4  20220805  111130   \n",
       "\n",
       "  treatment  group_id door_color  frame#  IN/OUT(1/-1) info       note  \n",
       "0      dddd         3        NaN     0.0           0.0  NaN  with_door  \n",
       "1      cccc         1        NaN     0.0           0.0  NaN  with_door  \n",
       "2      ccdd         2        NaN     0.0           0.0  NaN  with_door  \n",
       "3      cccc         5        NaN     0.0           0.0  NaN  with_door  \n",
       "4      ccdd         8        NaN     0.0           0.0  NaN  with_door  "
      ]
     },
     "execution_count": 4,
     "metadata": {},
     "output_type": "execute_result"
    }
   ],
   "source": [
    "group_data.head()"
   ]
  },
  {
   "cell_type": "code",
   "execution_count": 7,
   "id": "73b754b2",
   "metadata": {},
   "outputs": [],
   "source": [
    "treatment_dddd = group_data[\"treatment\"] == \"dddd\"\n",
    "treatment_cccc = group_data[\"treatment\"] == \"cccc\"\n",
    "treatment_ccdd = group_data[\"treatment\"] == \"ccdd\"\n",
    "treatment_nnnn = group_data[\"treatment\"] == \"nnnn\"\n"
   ]
  },
  {
   "cell_type": "code",
   "execution_count": 12,
   "id": "131b62f0",
   "metadata": {
    "scrolled": true
   },
   "outputs": [
    {
     "data": {
      "text/plain": [
       "(1198,)"
      ]
     },
     "execution_count": 12,
     "metadata": {},
     "output_type": "execute_result"
    }
   ],
   "source": [
    "treatment_dddd.shape\n",
    "treatment_cccc.shape\n",
    "treatment_ccdd.shape\n",
    "treatment_nnnn.shape"
   ]
  },
  {
   "cell_type": "code",
   "execution_count": 14,
   "id": "058e69d0",
   "metadata": {
    "scrolled": true
   },
   "outputs": [
    {
     "name": "stdout",
     "output_type": "stream",
     "text": [
      "0\n",
      "0\n",
      "0\n",
      "15\n",
      "0\n",
      "22\n",
      "0\n",
      "59\n",
      "19\n",
      "59\n",
      "33\n",
      "18\n",
      "33\n",
      "39\n",
      "32\n",
      "18\n",
      "39\n",
      "76\n",
      "34\n",
      "3\n",
      "34\n",
      "10\n",
      "8\n",
      "5\n",
      "6\n",
      "19\n",
      "8\n",
      "2\n",
      "22\n"
     ]
    }
   ],
   "source": [
    "for group_id in np.unique(group_data[\"group_id\"]):\n",
    "    group_df=group_data[group_data[\"group_id\"]==group_id]\n",
    "    print(len(group_df[group_df[\"IN/OUT(1/-1)\"]==1]))"
   ]
  },
  {
   "cell_type": "code",
   "execution_count": 54,
   "id": "0b034897",
   "metadata": {},
   "outputs": [
    {
     "data": {
      "text/html": [
       "<div>\n",
       "<style scoped>\n",
       "    .dataframe tbody tr th:only-of-type {\n",
       "        vertical-align: middle;\n",
       "    }\n",
       "\n",
       "    .dataframe tbody tr th {\n",
       "        vertical-align: top;\n",
       "    }\n",
       "\n",
       "    .dataframe thead th {\n",
       "        text-align: right;\n",
       "    }\n",
       "</style>\n",
       "<table border=\"1\" class=\"dataframe\">\n",
       "  <thead>\n",
       "    <tr style=\"text-align: right;\">\n",
       "      <th></th>\n",
       "      <th>filename</th>\n",
       "      <th>recID</th>\n",
       "      <th>date</th>\n",
       "      <th>time</th>\n",
       "      <th>treatment</th>\n",
       "      <th>group_id</th>\n",
       "      <th>door_color</th>\n",
       "      <th>frame#</th>\n",
       "      <th>IN/OUT(1/-1)</th>\n",
       "      <th>info</th>\n",
       "      <th>note</th>\n",
       "    </tr>\n",
       "  </thead>\n",
       "  <tbody>\n",
       "    <tr>\n",
       "      <th>5</th>\n",
       "      <td>rec_0005_group_task_groupid_010_treatment_nnnn...</td>\n",
       "      <td>5</td>\n",
       "      <td>20220805</td>\n",
       "      <td>115225</td>\n",
       "      <td>nnnn</td>\n",
       "      <td>10</td>\n",
       "      <td>NaN</td>\n",
       "      <td>0.0</td>\n",
       "      <td>0.0</td>\n",
       "      <td>NaN</td>\n",
       "      <td>with_door</td>\n",
       "    </tr>\n",
       "    <tr>\n",
       "      <th>86</th>\n",
       "      <td>rec_0013_group_task_groupid_024_treatment_nnnn...</td>\n",
       "      <td>13</td>\n",
       "      <td>20220812</td>\n",
       "      <td>135431</td>\n",
       "      <td>nnnn</td>\n",
       "      <td>24</td>\n",
       "      <td>R</td>\n",
       "      <td>8332.0</td>\n",
       "      <td>1.0</td>\n",
       "      <td>NaN</td>\n",
       "      <td>without_door</td>\n",
       "    </tr>\n",
       "    <tr>\n",
       "      <th>87</th>\n",
       "      <td>rec_0013_group_task_groupid_024_treatment_nnnn...</td>\n",
       "      <td>13</td>\n",
       "      <td>20220812</td>\n",
       "      <td>135431</td>\n",
       "      <td>nnnn</td>\n",
       "      <td>24</td>\n",
       "      <td>R</td>\n",
       "      <td>9520.0</td>\n",
       "      <td>-1.0</td>\n",
       "      <td>NaN</td>\n",
       "      <td>without_door</td>\n",
       "    </tr>\n",
       "    <tr>\n",
       "      <th>88</th>\n",
       "      <td>rec_0013_group_task_groupid_024_treatment_nnnn...</td>\n",
       "      <td>13</td>\n",
       "      <td>20220812</td>\n",
       "      <td>135431</td>\n",
       "      <td>nnnn</td>\n",
       "      <td>24</td>\n",
       "      <td>Y</td>\n",
       "      <td>22969.0</td>\n",
       "      <td>1.0</td>\n",
       "      <td>NaN</td>\n",
       "      <td>without_door</td>\n",
       "    </tr>\n",
       "    <tr>\n",
       "      <th>89</th>\n",
       "      <td>rec_0013_group_task_groupid_024_treatment_nnnn...</td>\n",
       "      <td>13</td>\n",
       "      <td>20220812</td>\n",
       "      <td>135431</td>\n",
       "      <td>nnnn</td>\n",
       "      <td>24</td>\n",
       "      <td>Y</td>\n",
       "      <td>23717.0</td>\n",
       "      <td>-1.0</td>\n",
       "      <td>NaN</td>\n",
       "      <td>without_door</td>\n",
       "    </tr>\n",
       "  </tbody>\n",
       "</table>\n",
       "</div>"
      ],
      "text/plain": [
       "                                             filename  recID      date  \\\n",
       "5   rec_0005_group_task_groupid_010_treatment_nnnn...      5  20220805   \n",
       "86  rec_0013_group_task_groupid_024_treatment_nnnn...     13  20220812   \n",
       "87  rec_0013_group_task_groupid_024_treatment_nnnn...     13  20220812   \n",
       "88  rec_0013_group_task_groupid_024_treatment_nnnn...     13  20220812   \n",
       "89  rec_0013_group_task_groupid_024_treatment_nnnn...     13  20220812   \n",
       "\n",
       "      time treatment  group_id door_color   frame#  IN/OUT(1/-1) info  \\\n",
       "5   115225      nnnn        10        NaN      0.0           0.0  NaN   \n",
       "86  135431      nnnn        24          R   8332.0           1.0  NaN   \n",
       "87  135431      nnnn        24          R   9520.0          -1.0  NaN   \n",
       "88  135431      nnnn        24          Y  22969.0           1.0  NaN   \n",
       "89  135431      nnnn        24          Y  23717.0          -1.0  NaN   \n",
       "\n",
       "            note  \n",
       "5      with_door  \n",
       "86  without_door  \n",
       "87  without_door  \n",
       "88  without_door  \n",
       "89  without_door  "
      ]
     },
     "execution_count": 54,
     "metadata": {},
     "output_type": "execute_result"
    }
   ],
   "source": [
    "treatment_index.head()"
   ]
  },
  {
   "cell_type": "code",
   "execution_count": 17,
   "id": "8da86c26",
   "metadata": {
    "scrolled": true
   },
   "outputs": [
    {
     "name": "stdout",
     "output_type": "stream",
     "text": [
      "0\n",
      "0\n",
      "0\n",
      "15\n",
      "0\n",
      "22\n",
      "0\n",
      "55\n",
      "19\n",
      "50\n",
      "29\n",
      "18\n",
      "31\n",
      "36\n",
      "32\n",
      "14\n",
      "32\n",
      "77\n",
      "31\n",
      "3\n",
      "34\n",
      "10\n",
      "8\n",
      "5\n",
      "6\n",
      "19\n",
      "8\n",
      "2\n",
      "22\n"
     ]
    }
   ],
   "source": [
    "for group_id in np.unique(group_data[\"group_id\"]):\n",
    "    group_df=group_data[group_data[\"group_id\"]==group_id]\n",
    "    print(len(group_df[group_df[\"IN/OUT(1/-1)\"]==-1]))"
   ]
  },
  {
   "cell_type": "code",
   "execution_count": 55,
   "id": "310550e0",
   "metadata": {
    "scrolled": true
   },
   "outputs": [],
   "source": [
    "color_door_index = group_data[\"door_color\"] == \"Y\"\n",
    "color_door_index = group_data[\"door_color\"] == \"G\"\n",
    "color_door_index = group_data[\"door_color\"] == \"R\"\n",
    "color_door_index = group_data[\"door_color\"] == \"B\"\n",
    "color_door_index = group_data[color_door_index]"
   ]
  },
  {
   "cell_type": "code",
   "execution_count": 56,
   "id": "ccb80c11",
   "metadata": {},
   "outputs": [
    {
     "data": {
      "text/plain": [
       "(320, 11)"
      ]
     },
     "execution_count": 56,
     "metadata": {},
     "output_type": "execute_result"
    }
   ],
   "source": [
    "color_door_index.shape"
   ]
  },
  {
   "cell_type": "code",
   "execution_count": 57,
   "id": "64e7038e",
   "metadata": {},
   "outputs": [
    {
     "data": {
      "text/html": [
       "<div>\n",
       "<style scoped>\n",
       "    .dataframe tbody tr th:only-of-type {\n",
       "        vertical-align: middle;\n",
       "    }\n",
       "\n",
       "    .dataframe tbody tr th {\n",
       "        vertical-align: top;\n",
       "    }\n",
       "\n",
       "    .dataframe thead th {\n",
       "        text-align: right;\n",
       "    }\n",
       "</style>\n",
       "<table border=\"1\" class=\"dataframe\">\n",
       "  <thead>\n",
       "    <tr style=\"text-align: right;\">\n",
       "      <th></th>\n",
       "      <th>filename</th>\n",
       "      <th>recID</th>\n",
       "      <th>date</th>\n",
       "      <th>time</th>\n",
       "      <th>treatment</th>\n",
       "      <th>group_id</th>\n",
       "      <th>door_color</th>\n",
       "      <th>frame#</th>\n",
       "      <th>IN/OUT(1/-1)</th>\n",
       "      <th>info</th>\n",
       "      <th>note</th>\n",
       "    </tr>\n",
       "  </thead>\n",
       "  <tbody>\n",
       "    <tr>\n",
       "      <th>24</th>\n",
       "      <td>rec_0006_group_task_groupid_015_treatment_dddd...</td>\n",
       "      <td>6</td>\n",
       "      <td>20220810</td>\n",
       "      <td>112732</td>\n",
       "      <td>dddd</td>\n",
       "      <td>15</td>\n",
       "      <td>B</td>\n",
       "      <td>29922.0</td>\n",
       "      <td>1.0</td>\n",
       "      <td>NaN</td>\n",
       "      <td>without_door</td>\n",
       "    </tr>\n",
       "    <tr>\n",
       "      <th>25</th>\n",
       "      <td>rec_0006_group_task_groupid_015_treatment_dddd...</td>\n",
       "      <td>6</td>\n",
       "      <td>20220810</td>\n",
       "      <td>112732</td>\n",
       "      <td>dddd</td>\n",
       "      <td>15</td>\n",
       "      <td>B</td>\n",
       "      <td>29959.0</td>\n",
       "      <td>1.0</td>\n",
       "      <td>NaN</td>\n",
       "      <td>without_door</td>\n",
       "    </tr>\n",
       "    <tr>\n",
       "      <th>26</th>\n",
       "      <td>rec_0006_group_task_groupid_015_treatment_dddd...</td>\n",
       "      <td>6</td>\n",
       "      <td>20220810</td>\n",
       "      <td>112732</td>\n",
       "      <td>dddd</td>\n",
       "      <td>15</td>\n",
       "      <td>B</td>\n",
       "      <td>29994.0</td>\n",
       "      <td>1.0</td>\n",
       "      <td>NaN</td>\n",
       "      <td>without_door</td>\n",
       "    </tr>\n",
       "    <tr>\n",
       "      <th>27</th>\n",
       "      <td>rec_0006_group_task_groupid_015_treatment_dddd...</td>\n",
       "      <td>6</td>\n",
       "      <td>20220810</td>\n",
       "      <td>112732</td>\n",
       "      <td>dddd</td>\n",
       "      <td>15</td>\n",
       "      <td>B</td>\n",
       "      <td>30010.0</td>\n",
       "      <td>1.0</td>\n",
       "      <td>NaN</td>\n",
       "      <td>without_door</td>\n",
       "    </tr>\n",
       "    <tr>\n",
       "      <th>48</th>\n",
       "      <td>rec_0008_group_task_groupid_013_treatment_cccc...</td>\n",
       "      <td>8</td>\n",
       "      <td>20220810</td>\n",
       "      <td>134145</td>\n",
       "      <td>cccc</td>\n",
       "      <td>13</td>\n",
       "      <td>B</td>\n",
       "      <td>29549.0</td>\n",
       "      <td>1.0</td>\n",
       "      <td>NaN</td>\n",
       "      <td>without_door</td>\n",
       "    </tr>\n",
       "  </tbody>\n",
       "</table>\n",
       "</div>"
      ],
      "text/plain": [
       "                                             filename  recID      date  \\\n",
       "24  rec_0006_group_task_groupid_015_treatment_dddd...      6  20220810   \n",
       "25  rec_0006_group_task_groupid_015_treatment_dddd...      6  20220810   \n",
       "26  rec_0006_group_task_groupid_015_treatment_dddd...      6  20220810   \n",
       "27  rec_0006_group_task_groupid_015_treatment_dddd...      6  20220810   \n",
       "48  rec_0008_group_task_groupid_013_treatment_cccc...      8  20220810   \n",
       "\n",
       "      time treatment  group_id door_color   frame#  IN/OUT(1/-1) info  \\\n",
       "24  112732      dddd        15          B  29922.0           1.0  NaN   \n",
       "25  112732      dddd        15          B  29959.0           1.0  NaN   \n",
       "26  112732      dddd        15          B  29994.0           1.0  NaN   \n",
       "27  112732      dddd        15          B  30010.0           1.0  NaN   \n",
       "48  134145      cccc        13          B  29549.0           1.0  NaN   \n",
       "\n",
       "            note  \n",
       "24  without_door  \n",
       "25  without_door  \n",
       "26  without_door  \n",
       "27  without_door  \n",
       "48  without_door  "
      ]
     },
     "execution_count": 57,
     "metadata": {},
     "output_type": "execute_result"
    }
   ],
   "source": [
    "color_door_index.head()"
   ]
  },
  {
   "cell_type": "code",
   "execution_count": 58,
   "id": "284e727c",
   "metadata": {},
   "outputs": [],
   "source": [
    "dummy_time_series = np.zeros(total_duration_frames)"
   ]
  },
  {
   "cell_type": "code",
   "execution_count": 59,
   "id": "4d9540b7",
   "metadata": {},
   "outputs": [
    {
     "name": "stdout",
     "output_type": "stream",
     "text": [
      "[0. 0. 0. ... 0. 0. 0.]\n"
     ]
    }
   ],
   "source": [
    "print(dummy_time_series)"
   ]
  },
  {
   "cell_type": "code",
   "execution_count": 1,
   "id": "652401d2",
   "metadata": {},
   "outputs": [
    {
     "ename": "NameError",
     "evalue": "name 'dummy_time_series' is not defined",
     "output_type": "error",
     "traceback": [
      "\u001b[1;31m---------------------------------------------------------------------------\u001b[0m",
      "\u001b[1;31mNameError\u001b[0m                                 Traceback (most recent call last)",
      "Cell \u001b[1;32mIn [1], line 1\u001b[0m\n\u001b[1;32m----> 1\u001b[0m \u001b[43mdummy_time_series\u001b[49m[\u001b[38;5;241m29922\u001b[39m]\n",
      "\u001b[1;31mNameError\u001b[0m: name 'dummy_time_series' is not defined"
     ]
    }
   ],
   "source": [
    "dummy_time_series[29922]"
   ]
  },
  {
   "cell_type": "code",
   "execution_count": 49,
   "id": "039f8e2f",
   "metadata": {},
   "outputs": [
    {
     "ename": "KeyError",
     "evalue": "'color_door_index'",
     "output_type": "error",
     "traceback": [
      "\u001b[1;31m---------------------------------------------------------------------------\u001b[0m",
      "\u001b[1;31mKeyError\u001b[0m                                  Traceback (most recent call last)",
      "File \u001b[1;32m~\\anaconda3\\envs\\behavior\\lib\\site-packages\\pandas\\core\\indexes\\base.py:3621\u001b[0m, in \u001b[0;36mIndex.get_loc\u001b[1;34m(self, key, method, tolerance)\u001b[0m\n\u001b[0;32m   3620\u001b[0m \u001b[38;5;28;01mtry\u001b[39;00m:\n\u001b[1;32m-> 3621\u001b[0m     \u001b[38;5;28;01mreturn\u001b[39;00m \u001b[38;5;28;43mself\u001b[39;49m\u001b[38;5;241;43m.\u001b[39;49m\u001b[43m_engine\u001b[49m\u001b[38;5;241;43m.\u001b[39;49m\u001b[43mget_loc\u001b[49m\u001b[43m(\u001b[49m\u001b[43mcasted_key\u001b[49m\u001b[43m)\u001b[49m\n\u001b[0;32m   3622\u001b[0m \u001b[38;5;28;01mexcept\u001b[39;00m \u001b[38;5;167;01mKeyError\u001b[39;00m \u001b[38;5;28;01mas\u001b[39;00m err:\n",
      "File \u001b[1;32m~\\anaconda3\\envs\\behavior\\lib\\site-packages\\pandas\\_libs\\index.pyx:136\u001b[0m, in \u001b[0;36mpandas._libs.index.IndexEngine.get_loc\u001b[1;34m()\u001b[0m\n",
      "File \u001b[1;32m~\\anaconda3\\envs\\behavior\\lib\\site-packages\\pandas\\_libs\\index.pyx:163\u001b[0m, in \u001b[0;36mpandas._libs.index.IndexEngine.get_loc\u001b[1;34m()\u001b[0m\n",
      "File \u001b[1;32mpandas\\_libs\\hashtable_class_helper.pxi:5198\u001b[0m, in \u001b[0;36mpandas._libs.hashtable.PyObjectHashTable.get_item\u001b[1;34m()\u001b[0m\n",
      "File \u001b[1;32mpandas\\_libs\\hashtable_class_helper.pxi:5206\u001b[0m, in \u001b[0;36mpandas._libs.hashtable.PyObjectHashTable.get_item\u001b[1;34m()\u001b[0m\n",
      "\u001b[1;31mKeyError\u001b[0m: 'color_door_index'",
      "\nThe above exception was the direct cause of the following exception:\n",
      "\u001b[1;31mKeyError\u001b[0m                                  Traceback (most recent call last)",
      "Input \u001b[1;32mIn [49]\u001b[0m, in \u001b[0;36m<cell line: 3>\u001b[1;34m()\u001b[0m\n\u001b[0;32m      1\u001b[0m fig,ax \u001b[38;5;241m=\u001b[39m plt\u001b[38;5;241m.\u001b[39msubplots(figsize\u001b[38;5;241m=\u001b[39m(\u001b[38;5;241m15\u001b[39m,\u001b[38;5;241m5\u001b[39m))\n\u001b[1;32m----> 3\u001b[0m \u001b[38;5;28;01mfor\u001b[39;00m file_name \u001b[38;5;129;01min\u001b[39;00m \u001b[43mgroup_data\u001b[49m\u001b[43m[\u001b[49m\u001b[38;5;124;43m\"\u001b[39;49m\u001b[38;5;124;43mcolor_door_index\u001b[39;49m\u001b[38;5;124;43m\"\u001b[39;49m\u001b[43m]\u001b[49m:\n\u001b[0;32m      4\u001b[0m     color_door_index \u001b[38;5;241m=\u001b[39m group_data[\u001b[38;5;124m\"\u001b[39m\u001b[38;5;124mcolor_door_index\u001b[39m\u001b[38;5;124m\"\u001b[39m] \u001b[38;5;241m==\u001b[39m color_door_index\n\u001b[0;32m      5\u001b[0m     treatment_index \u001b[38;5;241m=\u001b[39m group_data[treatment_index]\n",
      "File \u001b[1;32m~\\anaconda3\\envs\\behavior\\lib\\site-packages\\pandas\\core\\frame.py:3505\u001b[0m, in \u001b[0;36mDataFrame.__getitem__\u001b[1;34m(self, key)\u001b[0m\n\u001b[0;32m   3503\u001b[0m \u001b[38;5;28;01mif\u001b[39;00m \u001b[38;5;28mself\u001b[39m\u001b[38;5;241m.\u001b[39mcolumns\u001b[38;5;241m.\u001b[39mnlevels \u001b[38;5;241m>\u001b[39m \u001b[38;5;241m1\u001b[39m:\n\u001b[0;32m   3504\u001b[0m     \u001b[38;5;28;01mreturn\u001b[39;00m \u001b[38;5;28mself\u001b[39m\u001b[38;5;241m.\u001b[39m_getitem_multilevel(key)\n\u001b[1;32m-> 3505\u001b[0m indexer \u001b[38;5;241m=\u001b[39m \u001b[38;5;28;43mself\u001b[39;49m\u001b[38;5;241;43m.\u001b[39;49m\u001b[43mcolumns\u001b[49m\u001b[38;5;241;43m.\u001b[39;49m\u001b[43mget_loc\u001b[49m\u001b[43m(\u001b[49m\u001b[43mkey\u001b[49m\u001b[43m)\u001b[49m\n\u001b[0;32m   3506\u001b[0m \u001b[38;5;28;01mif\u001b[39;00m is_integer(indexer):\n\u001b[0;32m   3507\u001b[0m     indexer \u001b[38;5;241m=\u001b[39m [indexer]\n",
      "File \u001b[1;32m~\\anaconda3\\envs\\behavior\\lib\\site-packages\\pandas\\core\\indexes\\base.py:3623\u001b[0m, in \u001b[0;36mIndex.get_loc\u001b[1;34m(self, key, method, tolerance)\u001b[0m\n\u001b[0;32m   3621\u001b[0m     \u001b[38;5;28;01mreturn\u001b[39;00m \u001b[38;5;28mself\u001b[39m\u001b[38;5;241m.\u001b[39m_engine\u001b[38;5;241m.\u001b[39mget_loc(casted_key)\n\u001b[0;32m   3622\u001b[0m \u001b[38;5;28;01mexcept\u001b[39;00m \u001b[38;5;167;01mKeyError\u001b[39;00m \u001b[38;5;28;01mas\u001b[39;00m err:\n\u001b[1;32m-> 3623\u001b[0m     \u001b[38;5;28;01mraise\u001b[39;00m \u001b[38;5;167;01mKeyError\u001b[39;00m(key) \u001b[38;5;28;01mfrom\u001b[39;00m \u001b[38;5;21;01merr\u001b[39;00m\n\u001b[0;32m   3624\u001b[0m \u001b[38;5;28;01mexcept\u001b[39;00m \u001b[38;5;167;01mTypeError\u001b[39;00m:\n\u001b[0;32m   3625\u001b[0m     \u001b[38;5;66;03m# If we have a listlike key, _check_indexing_error will raise\u001b[39;00m\n\u001b[0;32m   3626\u001b[0m     \u001b[38;5;66;03m#  InvalidIndexError. Otherwise we fall through and re-raise\u001b[39;00m\n\u001b[0;32m   3627\u001b[0m     \u001b[38;5;66;03m#  the TypeError.\u001b[39;00m\n\u001b[0;32m   3628\u001b[0m     \u001b[38;5;28mself\u001b[39m\u001b[38;5;241m.\u001b[39m_check_indexing_error(key)\n",
      "\u001b[1;31mKeyError\u001b[0m: 'color_door_index'"
     ]
    },
    {
     "data": {
      "image/png": "[encoded data removed]",
      "text/plain": [
       "<Figure size 1080x360 with 1 Axes>"
      ]
     },
     "metadata": {
      "needs_background": "light"
     },
     "output_type": "display_data"
    }
   ],
   "source": [
    "fig,ax = plt.subplots(figsize=(15,5))\n",
    "\n",
    "for file_name in group_data[\"color_door_index\"]:\n",
    "    color_door_index = group_data[\"color_door_index\"] == color_door_index\n",
    "    treatment_index = group_data[treatment_index]\n",
    "    dummy_time_series = np.zeros(total_duration_frames)\n",
    "    counter = 0\n",
    "    for event in treatment_index[\"frame#\"]:\n",
    "        if np.isnan(treatment_index[\"IN/OUT(1/-1)\"].to_numpy()[counter]) == True:\n",
    "            continue\n",
    "        dummy_time_series[int(event)] = treatment_index[\"IN/OUT(1/-1)\"].to_numpy()[counter]\n",
    "        counter = counter + 1\n",
    "    ax.plot(dummy_time_series)\n",
    "plt.show()"
   ]
  },
  {
   "cell_type": "code",
   "execution_count": 38,
   "id": "2213f305",
   "metadata": {},
   "outputs": [
    {
     "data": {
      "text/plain": [
       "[<matplotlib.lines.Line2D at 0x204402bf1c0>]"
      ]
     },
     "execution_count": 38,
     "metadata": {},
     "output_type": "execute_result"
    },
    {
     "data": {
      "image/png": "[encoded data removed]",
      "text/plain": [
       "<Figure size 432x288 with 1 Axes>"
      ]
     },
     "metadata": {
      "needs_background": "light"
     },
     "output_type": "display_data"
    }
   ],
   "source": [
    "plt.plot(dummy_time_series)"
   ]
  },
  {
   "cell_type": "code",
   "execution_count": null,
   "id": "6acd22eb",
   "metadata": {},
   "outputs": [],
   "source": []
  }
 ],
 "metadata": {
  "kernelspec": {
   "display_name": "Python 3 (ipykernel)",
   "language": "python",
   "name": "python3"
  },
  "language_info": {
   "codemirror_mode": {
    "name": "ipython",
    "version": 3
   },
   "file_extension": ".py",
   "mimetype": "text/x-python",
   "name": "python",
   "nbconvert_exporter": "python",
   "pygments_lexer": "ipython3",
   "version": "3.9.12"
  }
 },
 "nbformat": 4,
 "nbformat_minor": 5
}
